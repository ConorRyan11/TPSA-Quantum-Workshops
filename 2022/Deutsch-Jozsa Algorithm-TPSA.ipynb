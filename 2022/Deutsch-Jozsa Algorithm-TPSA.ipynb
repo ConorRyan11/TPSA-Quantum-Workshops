{
 "cells": [
  {
   "cell_type": "code",
   "execution_count": 7,
   "id": "94d390e3",
   "metadata": {},
   "outputs": [],
   "source": [
    "import numpy as np\n",
    "from qiskit import QuantumCircuit, transpile, BasicAer, IBMQ, execute, Aer\n",
    "from qiskit.tools.jupyter import *\n",
    "from qiskit.visualization import *\n",
    "from qiskit.visualization import plot_histogram\n",
    "from qiskit.providers.ibmq import least_busy\n",
    "from qiskit.providers.aer import QasmSimulator"
   ]
  },
  {
   "cell_type": "markdown",
   "id": "63d33074",
   "metadata": {},
   "source": [
    "# Creating Oracle"
   ]
  },
  {
   "cell_type": "markdown",
   "id": "4a386d5e",
   "metadata": {},
   "source": [
    "An oracle in a quantum circuit is a \"black box\" which performs some operation. It can be thought of as a function in quantum gate form.\n",
    "Because the functions the Deutsch-Jozsa algorithm looks at are constant(all outputs 0 or all outputs 1) or balanced(half of outputs 0 and half of outputs 1, in any order) that is what the oracle we create aims to do.\n",
    "In the following cell we create the oracle by having it perform certain quantum gates depending on if we select it to be constant or balanced."
   ]
  },
  {
   "cell_type": "code",
   "execution_count": 3,
   "id": "d9980007",
   "metadata": {},
   "outputs": [],
   "source": [
    "#Define oracle\n",
    "def dj_oracle(type, n):\n",
    "    oracle_qc = QuantumCircuit(n+1)\n",
    "    if type == \"constant\":\n",
    "        output = np.random.randint(2)\n",
    "        if output == 1:\n",
    "            oracle_qc.x(n) #Fixing all outputs to 0\n",
    "            \n",
    "    if type == \"balanced\":\n",
    "        for qubit in range(n):\n",
    "            oracle_qc.cx(qubit,n) #Adding CNOT gates to all qubits in the 1st register\n",
    "            \n",
    "    oracle_gate = oracle_qc.to_gate()\n",
    "    oracle_gate.name = \"Oracle\"\n",
    "    return oracle_gate"
   ]
  },
  {
   "cell_type": "markdown",
   "id": "ca513062",
   "metadata": {},
   "source": [
    "## Creating Deutsch-Jozsa Quantum Cirucit"
   ]
  },
  {
   "cell_type": "markdown",
   "id": "227d7291",
   "metadata": {},
   "source": [
    "The circuit which performs the Deutsch-Jozsa algorithm is constructed in the cell below.\n",
    "We have an n qubit register initialised in state |0> and an extra qubit flipped into the |1> state.\n",
    "When coding this problem we can't let the oracle be either constant or balanced and find out later, we have to specifically select which type of oracle it is."
   ]
  },
  {
   "cell_type": "code",
   "execution_count": 9,
   "id": "f2d936f1",
   "metadata": {},
   "outputs": [
    {
     "data": {
      "image/png": "[encoded data removed]",
      "text/plain": [
       "<Figure size 688.597x325.08 with 1 Axes>"
      ]
     },
     "execution_count": 9,
     "metadata": {},
     "output_type": "execute_result"
    }
   ],
   "source": [
    "n=3\n",
    "dj_circuit = QuantumCircuit(n+1, n)\n",
    "dj_circuit.x(n)\n",
    "dj_circuit.h(range(n+1))\n",
    "dj_circuit.barrier()\n",
    "oracle_gate = dj_oracle(\"balanced\", n)\n",
    "dj_circuit.append(oracle_gate, range(n+1))\n",
    "dj_circuit.barrier()\n",
    "dj_circuit.h(range(n))\n",
    "dj_circuit.measure(range(n), range(n))\n",
    "dj_circuit.draw('mpl')"
   ]
  },
  {
   "cell_type": "markdown",
   "id": "185c27d0",
   "metadata": {},
   "source": [
    "## Simulation of Results"
   ]
  },
  {
   "cell_type": "markdown",
   "id": "77333c9d",
   "metadata": {},
   "source": [
    "By executing our circuit on the noiseless simulator we obtain a single state as our result.\n",
    "What we measure at the end of our circuit depends on if the oracle is constant of balanced.\n",
    "If the oracle was constant we would measure 00...0 because it would not affect our total input quantum state and the application of the second set of hadamard gates would invert the n qubit register back to |00...0>.\n",
    "If the oracle is balanced we can measure anything else."
   ]
  },
  {
   "cell_type": "code",
   "execution_count": 10,
   "id": "687504b3",
   "metadata": {},
   "outputs": [
    {
     "data": {
      "image/png": "[encoded data removed]",
      "text/plain": [
       "<Figure size 504x360 with 1 Axes>"
      ]
     },
     "execution_count": 10,
     "metadata": {},
     "output_type": "execute_result"
    }
   ],
   "source": [
    "backend = Aer.get_backend('qasm_simulator')\n",
    "job_sim = execute(dj_circuit, backend, shots=1024).result().get_counts()\n",
    "plot_histogram(job_sim)"
   ]
  },
  {
   "cell_type": "markdown",
   "id": "27fdc429",
   "metadata": {},
   "source": [
    "## Running on Real Quantum Device"
   ]
  },
  {
   "cell_type": "markdown",
   "id": "16adbde2",
   "metadata": {},
   "source": [
    "In the following cells we load the IBM account and check our providers and possible backends."
   ]
  },
  {
   "cell_type": "code",
   "execution_count": 11,
   "id": "a0a2565f",
   "metadata": {},
   "outputs": [
    {
     "data": {
      "text/plain": [
       "[<AccountProvider for IBMQ(hub='ibm-q', group='open', project='main')>,\n",
       " <AccountProvider for IBMQ(hub='qc-spring-22-4', group='group-4', project='reczA7aZpklv6xtnQ')>]"
      ]
     },
     "execution_count": 11,
     "metadata": {},
     "output_type": "execute_result"
    }
   ],
   "source": [
    "from qiskit import IBMQ\n",
    "provider = IBMQ.enable_account('API Token')\n",
    "IBMQ.providers()"
   ]
  },
  {
   "cell_type": "code",
   "execution_count": 12,
   "id": "585cf69b",
   "metadata": {},
   "outputs": [
    {
     "data": {
      "text/plain": [
       "[<IBMQSimulator('ibmq_qasm_simulator') from IBMQ(hub='ibm-q', group='open', project='main')>,\n",
       " <IBMQBackend('ibmq_armonk') from IBMQ(hub='ibm-q', group='open', project='main')>,\n",
       " <IBMQBackend('ibmq_santiago') from IBMQ(hub='ibm-q', group='open', project='main')>,\n",
       " <IBMQBackend('ibmq_bogota') from IBMQ(hub='ibm-q', group='open', project='main')>,\n",
       " <IBMQBackend('ibmq_lima') from IBMQ(hub='ibm-q', group='open', project='main')>,\n",
       " <IBMQBackend('ibmq_belem') from IBMQ(hub='ibm-q', group='open', project='main')>,\n",
       " <IBMQBackend('ibmq_quito') from IBMQ(hub='ibm-q', group='open', project='main')>,\n",
       " <IBMQSimulator('simulator_statevector') from IBMQ(hub='ibm-q', group='open', project='main')>,\n",
       " <IBMQSimulator('simulator_mps') from IBMQ(hub='ibm-q', group='open', project='main')>,\n",
       " <IBMQSimulator('simulator_extended_stabilizer') from IBMQ(hub='ibm-q', group='open', project='main')>,\n",
       " <IBMQSimulator('simulator_stabilizer') from IBMQ(hub='ibm-q', group='open', project='main')>,\n",
       " <IBMQBackend('ibmq_manila') from IBMQ(hub='ibm-q', group='open', project='main')>]"
      ]
     },
     "execution_count": 12,
     "metadata": {},
     "output_type": "execute_result"
    }
   ],
   "source": [
    "provider.backends()"
   ]
  },
  {
   "cell_type": "markdown",
   "id": "348a0896",
   "metadata": {},
   "source": [
    "In this cell we check for the least busy device and select its coupling map and backend properties which are feautres of how the particular device works."
   ]
  },
  {
   "cell_type": "code",
   "execution_count": 32,
   "id": "3bba7133",
   "metadata": {},
   "outputs": [
    {
     "name": "stdout",
     "output_type": "stream",
     "text": [
      "ibmq_lima\n"
     ]
    }
   ],
   "source": [
    "import qiskit.tools.jupyter\n",
    "\n",
    "HW = least_busy(provider.backends(filters=lambda b: b.configuration().n_qubits >= 3 and not b.configuration().simulator and b.status().operational==True))\n",
    "print(HW)\n",
    "device = IBMQ.get_provider(hub='ibm-q', group='open', project='main').get_backend('ibmq_santiago')\n",
    "coupling_map = device.configuration().coupling_map\n",
    "backend_properties = device.properties()"
   ]
  },
  {
   "cell_type": "markdown",
   "id": "93640e19",
   "metadata": {},
   "source": [
    "In the cell we create and run a noise model using the calibration of the selected real quantum device. This is a way to generate noisy results based on real quantum hardware by running the circuit with a simulator on your own device and not waiting in a queue. The noisy results obtained this way will be similar to the real hardware but won't be exactly the same."
   ]
  },
  {
   "cell_type": "code",
   "execution_count": 33,
   "id": "b36d359d",
   "metadata": {},
   "outputs": [
    {
     "data": {
      "image/png": "[encoded data removed]",
      "text/plain": [
       "<Figure size 504x360 with 1 Axes>"
      ]
     },
     "execution_count": 33,
     "metadata": {},
     "output_type": "execute_result"
    }
   ],
   "source": [
    "from qiskit.providers.aer.noise import NoiseModel\n",
    "from qiskit.providers.aer import noise\n",
    "\n",
    "# Creation of noise model and basis gate from backend properties\n",
    "\n",
    "noise_model = NoiseModel.from_backend(device)\n",
    "basis_gates = noise_model.basis_gates\n",
    "\n",
    "bk = Aer.get_backend('qasm_simulator')\n",
    "counts_noisy = execute(dj_circuit, shots=8192, backend=bk, coupling_map=coupling_map, \n",
    "                       basis_gates=basis_gates, noise_model=noise_model).result().get_counts()\n",
    "plot_histogram(counts_noisy)"
   ]
  },
  {
   "cell_type": "markdown",
   "id": "4a36d31d",
   "metadata": {},
   "source": [
    "In this cell we run the circuit on the same quantum processor we created the noise model from."
   ]
  },
  {
   "cell_type": "code",
   "execution_count": null,
   "id": "2dacb827",
   "metadata": {},
   "outputs": [],
   "source": [
    "from qiskit.tools.monitor import job_monitor\n",
    "bk_real = provider.get_backend('ibmq_santiago')\n",
    "job_noisy_real = execute(dj_circuit, shots=8192, backend=bk_real)\n",
    "job_monitor(job_noisy_real)"
   ]
  },
  {
   "cell_type": "code",
   "execution_count": 35,
   "id": "fd20c9fa",
   "metadata": {},
   "outputs": [
    {
     "data": {
      "image/png": "[encoded data removed]",
      "text/plain": [
       "<Figure size 504x360 with 1 Axes>"
      ]
     },
     "execution_count": 35,
     "metadata": {},
     "output_type": "execute_result"
    }
   ],
   "source": [
    "results_noisy_real = job_noisy_real.result()\n",
    "counts_noisy_real = results_noisy_real.get_counts()\n",
    "plot_histogram(counts_noisy_real)"
   ]
  }
 ],
 "metadata": {
  "kernelspec": {
   "display_name": "qiskit (stable)",
   "language": "python",
   "name": "qiskit-stable"
  },
  "language_info": {
   "codemirror_mode": {
    "name": "ipython",
    "version": 3
   },
   "file_extension": ".py",
   "mimetype": "text/x-python",
   "name": "python",
   "nbconvert_exporter": "python",
   "pygments_lexer": "ipython3",
   "version": "3.9.18"
  }
 },
 "nbformat": 4,
 "nbformat_minor": 5
}
