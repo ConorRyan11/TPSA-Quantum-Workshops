{
 "cells": [
  {
   "cell_type": "code",
   "execution_count": 2,
   "id": "027a739e",
   "metadata": {},
   "outputs": [],
   "source": [
    "from qiskit import QuantumCircuit\n",
    "from qiskit import IBMQ, Aer, transpile, execute\n",
    "from qiskit.visualization import plot_histogram"
   ]
  },
  {
   "cell_type": "markdown",
   "id": "c7fd5bdc",
   "metadata": {},
   "source": [
    "## Creating Quantum Circuit"
   ]
  },
  {
   "cell_type": "markdown",
   "id": "c84d313f",
   "metadata": {},
   "source": [
    "We begin by entangling the two qubits to create a Bell State $|\\Phi^+\\rangle$ = $\\frac{|00\\rangle+|11\\rangle}{\\sqrt{2}}$."
   ]
  },
  {
   "cell_type": "code",
   "execution_count": 3,
   "id": "a5e5bd4f",
   "metadata": {},
   "outputs": [
    {
     "data": {
      "text/plain": [
       "<qiskit.circuit.instructionset.InstructionSet at 0x1e3b86583c0>"
      ]
     },
     "execution_count": 3,
     "metadata": {},
     "output_type": "execute_result"
    }
   ],
   "source": [
    "qc = QuantumCircuit(2,2)\n",
    "qc.h(0)\n",
    "qc.cx(0,1)\n",
    "qc.barrier()"
   ]
  },
  {
   "cell_type": "markdown",
   "id": "814efcc7",
   "metadata": {},
   "source": [
    "Next we manuelly decide what message we want to send. Then depending on what that message is we apply certain quantum gates to encode our message in qubit 0.\n",
    "\n",
    "Once the message is encoded a CNOT and H gate are applied to qubit 0. This is to ensure that our message is encoded in the final quantum statevector of the circuit. Meaning, after these gates we have some quantum state $|\\text{message}\\rangle$."
   ]
  },
  {
   "cell_type": "code",
   "execution_count": 5,
   "id": "5966f743",
   "metadata": {},
   "outputs": [
    {
     "data": {
      "image/png": "[encoded data removed]",
      "text/plain": [
       "<Figure size 688.452x204.68 with 1 Axes>"
      ]
     },
     "execution_count": 5,
     "metadata": {},
     "output_type": "execute_result"
    }
   ],
   "source": [
    "msg = '01'\n",
    "if msg == '00':\n",
    "    qc.barrier()\n",
    "elif msg == '01':\n",
    "    qc.x(0)\n",
    "    qc.barrier()\n",
    "elif msg == '10':\n",
    "    qc.z(0)\n",
    "    qc.barrier()\n",
    "elif msg == '11':\n",
    "    qc.z(0)\n",
    "    qc.x(0)\n",
    "    qc.barrier()\n",
    "qc.cx(0,1)\n",
    "qc.h(0)\n",
    "qc.barrier()\n",
    "qc.measure(range(2),range(2))\n",
    "qc.draw('mpl')"
   ]
  },
  {
   "cell_type": "markdown",
   "id": "94aa3528",
   "metadata": {},
   "source": [
    "## Running Quantum Circuit"
   ]
  },
  {
   "cell_type": "markdown",
   "id": "74ddde17",
   "metadata": {},
   "source": [
    "Running the circuit on the noisless simulator we see that we always measure the chosen message. This is because once we encode it in the quantum state we are guaranteed to measure qubit 0 and qubit 1 in the correct components of the message."
   ]
  },
  {
   "cell_type": "code",
   "execution_count": 7,
   "id": "175670f9",
   "metadata": {},
   "outputs": [
    {
     "data": {
      "image/png": "[encoded data removed]",
      "text/plain": [
       "<Figure size 504x360 with 1 Axes>"
      ]
     },
     "execution_count": 7,
     "metadata": {},
     "output_type": "execute_result"
    }
   ],
   "source": [
    "backend = Aer.get_backend('qasm_simulator')\n",
    "job_sim = execute(qc, backend, shots=1024).result().get_counts()\n",
    "plot_histogram(job_sim)"
   ]
  },
  {
   "cell_type": "markdown",
   "id": "a6be32eb",
   "metadata": {},
   "source": [
    "## Running on Real Quantum Hardware"
   ]
  },
  {
   "cell_type": "markdown",
   "id": "79f2f6da",
   "metadata": {},
   "source": [
    "When running on real hardware start by connecting to the IBM Quantum system."
   ]
  },
  {
   "cell_type": "code",
   "execution_count": 8,
   "id": "2227bf62",
   "metadata": {},
   "outputs": [
    {
     "data": {
      "text/plain": [
       "[<AccountProvider for IBMQ(hub='ibm-q', group='open', project='main')>,\n",
       " <AccountProvider for IBMQ(hub='qc-spring-22-4', group='group-4', project='reczA7aZpklv6xtnQ')>]"
      ]
     },
     "execution_count": 8,
     "metadata": {},
     "output_type": "execute_result"
    }
   ],
   "source": [
    "from qiskit import IBMQ\n",
    "provider = IBMQ.enable_account('API Token')\n",
    "IBMQ.providers()"
   ]
  },
  {
   "cell_type": "markdown",
   "id": "5246a4d0",
   "metadata": {},
   "source": [
    "After selecting a particular processor get its coupling map and backend properties."
   ]
  },
  {
   "cell_type": "code",
   "execution_count": 9,
   "id": "7adc5357",
   "metadata": {},
   "outputs": [],
   "source": [
    "import qiskit.tools.jupyter\n",
    "\n",
    "device = IBMQ.get_provider(hub='ibm-q', group='open', project='main').get_backend('ibmq_santiago')\n",
    "coupling_map = device.configuration().coupling_map\n",
    "backend_properties = device.properties()"
   ]
  },
  {
   "cell_type": "markdown",
   "id": "24fbb848",
   "metadata": {},
   "source": [
    "Use the coupling map and backend properties to create a noise model using the calibration of the selected processor. A noise model is useful for simulating noisy results without having to queue for the actual processor. We see that in this case sometimes we measure messages which are not the one we chose to send."
   ]
  },
  {
   "cell_type": "code",
   "execution_count": 10,
   "id": "65dcd495",
   "metadata": {},
   "outputs": [
    {
     "data": {
      "image/png": "[encoded data removed]",
      "text/plain": [
       "<Figure size 504x360 with 1 Axes>"
      ]
     },
     "execution_count": 10,
     "metadata": {},
     "output_type": "execute_result"
    }
   ],
   "source": [
    "from qiskit.providers.aer.noise import NoiseModel\n",
    "from qiskit.providers.aer import noise\n",
    "\n",
    "# Creation of noise model and basis gate from backend properties\n",
    "\n",
    "noise_model = NoiseModel.from_backend(device)\n",
    "basis_gates = noise_model.basis_gates\n",
    "\n",
    "bk = Aer.get_backend('qasm_simulator')\n",
    "counts_noisy = execute(qc, shots=8192, backend=bk, coupling_map=coupling_map, \n",
    "                       basis_gates=basis_gates, noise_model=noise_model).result().get_counts()\n",
    "plot_histogram(counts_noisy)"
   ]
  },
  {
   "cell_type": "markdown",
   "id": "69e5a6d5",
   "metadata": {},
   "source": [
    "When moving on to running the circuit on the real device it's important to chose the same device which we created the noise model from. In this case the noise model and the real noisy results agree well."
   ]
  },
  {
   "cell_type": "code",
   "execution_count": null,
   "id": "0edb4b07",
   "metadata": {},
   "outputs": [],
   "source": [
    "from qiskit.tools.monitor import job_monitor\n",
    "bk_real = provider.get_backend('ibmq_santiago')\n",
    "job_noisy_real = execute(qc, shots=8192, backend=bk_real)\n",
    "job_monitor(job_noisy_real)"
   ]
  },
  {
   "cell_type": "code",
   "execution_count": 12,
   "id": "c3ca06ec",
   "metadata": {},
   "outputs": [
    {
     "data": {
      "image/png": "[encoded data removed]",
      "text/plain": [
       "<Figure size 504x360 with 1 Axes>"
      ]
     },
     "execution_count": 12,
     "metadata": {},
     "output_type": "execute_result"
    }
   ],
   "source": [
    "results_noisy_real = job_noisy_real.result()\n",
    "counts_noisy_real = results_noisy_real.get_counts()\n",
    "plot_histogram(counts_noisy_real)"
   ]
  }
 ],
 "metadata": {
  "kernelspec": {
   "display_name": "qiskit (stable)",
   "language": "python",
   "name": "qiskit-stable"
  },
  "language_info": {
   "codemirror_mode": {
    "name": "ipython",
    "version": 3
   },
   "file_extension": ".py",
   "mimetype": "text/x-python",
   "name": "python",
   "nbconvert_exporter": "python",
   "pygments_lexer": "ipython3",
   "version": "3.9.12"
  }
 },
 "nbformat": 4,
 "nbformat_minor": 5
}
